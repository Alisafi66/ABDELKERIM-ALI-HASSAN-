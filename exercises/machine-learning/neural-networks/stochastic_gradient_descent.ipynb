{
  "cells": [
    {
      "cell_type": "markdown",
      "metadata": {
        "id": "zEu3KIvNWUmb"
      },
      "source": [
        "# Stochastic Gradient Descent\n",
        "You should build an end-to-end machine learning pipeline using a stochastic gradient descent model. In particular, you should do the following:\n",
        "- Load the `mnist` dataset using [Pandas](https://pandas.pydata.org/docs/reference/api/pandas.read_csv.html). You can find this dataset in the datasets folder.\n",
        "- Split the dataset into training and test sets using [Scikit-Learn](https://scikit-learn.org/stable/modules/generated/sklearn.model_selection.train_test_split.html).\n",
        "- Build an end-to-end machine learning pipeline, including a [stochastic gradient descent](https://scikit-learn.org/stable/modules/generated/sklearn.linear_model.SGDClassifier.html) model.\n",
        "- Optimize your pipeline by validating your design decisions.\n",
        "- Test the best pipeline on the test set and report various [evaluation metrics](https://scikit-learn.org/0.15/modules/model_evaluation.html).  \n",
        "- Check the documentation to identify the most important hyperparameters, attributes, and methods of the model. Use them in practice."
      ],
      "id": "zEu3KIvNWUmb"
    },
    {
      "cell_type": "code",
      "source": [
        "import pandas as pd\n",
        "import numpy as np\n",
        "from sklearn.model_selection import train_test_split"
      ],
      "metadata": {
        "id": "6K3jMaOnZlcW"
      },
      "id": "6K3jMaOnZlcW",
      "execution_count": 1,
      "outputs": []
    },
    {
      "cell_type": "code",
      "execution_count": 3,
      "metadata": {
        "id": "JJicjAdPWUmc",
        "outputId": "6bc41292-560a-46de-8858-5b1e58144f54",
        "colab": {
          "base_uri": "https://localhost:8080/",
          "height": 448
        }
      },
      "outputs": [
        {
          "output_type": "stream",
          "name": "stdout",
          "text": [
            "(4000, 786)\n",
            "Count of nan: 0\n"
          ]
        },
        {
          "output_type": "display_data",
          "data": {
            "text/plain": [
              "      id  class  pixel1  pixel2  pixel3  pixel4  pixel5  pixel6  pixel7  \\\n",
              "0  31953      5       0       0       0       0       0       0       0   \n",
              "1  34452      8       0       0       0       0       0       0       0   \n",
              "2  60897      5       0       0       0       0       0       0       0   \n",
              "3  36953      0       0       0       0       0       0       0       0   \n",
              "4   1981      3       0       0       0       0       0       0       0   \n",
              "5  61207      2       0       0       0       0       0       0       0   \n",
              "6  33799      1       0       0       0       0       0       0       0   \n",
              "7   5414      5       0       0       0       0       0       0       0   \n",
              "8  61377      6       0       0       0       0       0       0       0   \n",
              "9   1875      9       0       0       0       0       0       0       0   \n",
              "\n",
              "   pixel8  ...  pixel775  pixel776  pixel777  pixel778  pixel779  pixel780  \\\n",
              "0       0  ...         0         0         0         0         0         0   \n",
              "1       0  ...         0         0         0         0         0         0   \n",
              "2       0  ...         0         0         0         0         0         0   \n",
              "3       0  ...         0         0         0         0         0         0   \n",
              "4       0  ...         0         0         0         0         0         0   \n",
              "5       0  ...         0         0         0         0         0         0   \n",
              "6       0  ...         0         0         0         0         0         0   \n",
              "7       0  ...         0         0         0         0         0         0   \n",
              "8       0  ...         0         0         0         0         0         0   \n",
              "9       0  ...         0         0         0         0         0         0   \n",
              "\n",
              "   pixel781  pixel782  pixel783  pixel784  \n",
              "0         0         0         0         0  \n",
              "1         0         0         0         0  \n",
              "2         0         0         0         0  \n",
              "3         0         0         0         0  \n",
              "4         0         0         0         0  \n",
              "5         0         0         0         0  \n",
              "6         0         0         0         0  \n",
              "7         0         0         0         0  \n",
              "8         0         0         0         0  \n",
              "9         0         0         0         0  \n",
              "\n",
              "[10 rows x 786 columns]"
            ],
            "text/html": [
              "\n",
              "  <div id=\"df-9d833342-d68c-44f4-9e3e-64264c599984\" class=\"colab-df-container\">\n",
              "    <div>\n",
              "<style scoped>\n",
              "    .dataframe tbody tr th:only-of-type {\n",
              "        vertical-align: middle;\n",
              "    }\n",
              "\n",
              "    .dataframe tbody tr th {\n",
              "        vertical-align: top;\n",
              "    }\n",
              "\n",
              "    .dataframe thead th {\n",
              "        text-align: right;\n",
              "    }\n",
              "</style>\n",
              "<table border=\"1\" class=\"dataframe\">\n",
              "  <thead>\n",
              "    <tr style=\"text-align: right;\">\n",
              "      <th></th>\n",
              "      <th>id</th>\n",
              "      <th>class</th>\n",
              "      <th>pixel1</th>\n",
              "      <th>pixel2</th>\n",
              "      <th>pixel3</th>\n",
              "      <th>pixel4</th>\n",
              "      <th>pixel5</th>\n",
              "      <th>pixel6</th>\n",
              "      <th>pixel7</th>\n",
              "      <th>pixel8</th>\n",
              "      <th>...</th>\n",
              "      <th>pixel775</th>\n",
              "      <th>pixel776</th>\n",
              "      <th>pixel777</th>\n",
              "      <th>pixel778</th>\n",
              "      <th>pixel779</th>\n",
              "      <th>pixel780</th>\n",
              "      <th>pixel781</th>\n",
              "      <th>pixel782</th>\n",
              "      <th>pixel783</th>\n",
              "      <th>pixel784</th>\n",
              "    </tr>\n",
              "  </thead>\n",
              "  <tbody>\n",
              "    <tr>\n",
              "      <th>0</th>\n",
              "      <td>31953</td>\n",
              "      <td>5</td>\n",
              "      <td>0</td>\n",
              "      <td>0</td>\n",
              "      <td>0</td>\n",
              "      <td>0</td>\n",
              "      <td>0</td>\n",
              "      <td>0</td>\n",
              "      <td>0</td>\n",
              "      <td>0</td>\n",
              "      <td>...</td>\n",
              "      <td>0</td>\n",
              "      <td>0</td>\n",
              "      <td>0</td>\n",
              "      <td>0</td>\n",
              "      <td>0</td>\n",
              "      <td>0</td>\n",
              "      <td>0</td>\n",
              "      <td>0</td>\n",
              "      <td>0</td>\n",
              "      <td>0</td>\n",
              "    </tr>\n",
              "    <tr>\n",
              "      <th>1</th>\n",
              "      <td>34452</td>\n",
              "      <td>8</td>\n",
              "      <td>0</td>\n",
              "      <td>0</td>\n",
              "      <td>0</td>\n",
              "      <td>0</td>\n",
              "      <td>0</td>\n",
              "      <td>0</td>\n",
              "      <td>0</td>\n",
              "      <td>0</td>\n",
              "      <td>...</td>\n",
              "      <td>0</td>\n",
              "      <td>0</td>\n",
              "      <td>0</td>\n",
              "      <td>0</td>\n",
              "      <td>0</td>\n",
              "      <td>0</td>\n",
              "      <td>0</td>\n",
              "      <td>0</td>\n",
              "      <td>0</td>\n",
              "      <td>0</td>\n",
              "    </tr>\n",
              "    <tr>\n",
              "      <th>2</th>\n",
              "      <td>60897</td>\n",
              "      <td>5</td>\n",
              "      <td>0</td>\n",
              "      <td>0</td>\n",
              "      <td>0</td>\n",
              "      <td>0</td>\n",
              "      <td>0</td>\n",
              "      <td>0</td>\n",
              "      <td>0</td>\n",
              "      <td>0</td>\n",
              "      <td>...</td>\n",
              "      <td>0</td>\n",
              "      <td>0</td>\n",
              "      <td>0</td>\n",
              "      <td>0</td>\n",
              "      <td>0</td>\n",
              "      <td>0</td>\n",
              "      <td>0</td>\n",
              "      <td>0</td>\n",
              "      <td>0</td>\n",
              "      <td>0</td>\n",
              "    </tr>\n",
              "    <tr>\n",
              "      <th>3</th>\n",
              "      <td>36953</td>\n",
              "      <td>0</td>\n",
              "      <td>0</td>\n",
              "      <td>0</td>\n",
              "      <td>0</td>\n",
              "      <td>0</td>\n",
              "      <td>0</td>\n",
              "      <td>0</td>\n",
              "      <td>0</td>\n",
              "      <td>0</td>\n",
              "      <td>...</td>\n",
              "      <td>0</td>\n",
              "      <td>0</td>\n",
              "      <td>0</td>\n",
              "      <td>0</td>\n",
              "      <td>0</td>\n",
              "      <td>0</td>\n",
              "      <td>0</td>\n",
              "      <td>0</td>\n",
              "      <td>0</td>\n",
              "      <td>0</td>\n",
              "    </tr>\n",
              "    <tr>\n",
              "      <th>4</th>\n",
              "      <td>1981</td>\n",
              "      <td>3</td>\n",
              "      <td>0</td>\n",
              "      <td>0</td>\n",
              "      <td>0</td>\n",
              "      <td>0</td>\n",
              "      <td>0</td>\n",
              "      <td>0</td>\n",
              "      <td>0</td>\n",
              "      <td>0</td>\n",
              "      <td>...</td>\n",
              "      <td>0</td>\n",
              "      <td>0</td>\n",
              "      <td>0</td>\n",
              "      <td>0</td>\n",
              "      <td>0</td>\n",
              "      <td>0</td>\n",
              "      <td>0</td>\n",
              "      <td>0</td>\n",
              "      <td>0</td>\n",
              "      <td>0</td>\n",
              "    </tr>\n",
              "    <tr>\n",
              "      <th>5</th>\n",
              "      <td>61207</td>\n",
              "      <td>2</td>\n",
              "      <td>0</td>\n",
              "      <td>0</td>\n",
              "      <td>0</td>\n",
              "      <td>0</td>\n",
              "      <td>0</td>\n",
              "      <td>0</td>\n",
              "      <td>0</td>\n",
              "      <td>0</td>\n",
              "      <td>...</td>\n",
              "      <td>0</td>\n",
              "      <td>0</td>\n",
              "      <td>0</td>\n",
              "      <td>0</td>\n",
              "      <td>0</td>\n",
              "      <td>0</td>\n",
              "      <td>0</td>\n",
              "      <td>0</td>\n",
              "      <td>0</td>\n",
              "      <td>0</td>\n",
              "    </tr>\n",
              "    <tr>\n",
              "      <th>6</th>\n",
              "      <td>33799</td>\n",
              "      <td>1</td>\n",
              "      <td>0</td>\n",
              "      <td>0</td>\n",
              "      <td>0</td>\n",
              "      <td>0</td>\n",
              "      <td>0</td>\n",
              "      <td>0</td>\n",
              "      <td>0</td>\n",
              "      <td>0</td>\n",
              "      <td>...</td>\n",
              "      <td>0</td>\n",
              "      <td>0</td>\n",
              "      <td>0</td>\n",
              "      <td>0</td>\n",
              "      <td>0</td>\n",
              "      <td>0</td>\n",
              "      <td>0</td>\n",
              "      <td>0</td>\n",
              "      <td>0</td>\n",
              "      <td>0</td>\n",
              "    </tr>\n",
              "    <tr>\n",
              "      <th>7</th>\n",
              "      <td>5414</td>\n",
              "      <td>5</td>\n",
              "      <td>0</td>\n",
              "      <td>0</td>\n",
              "      <td>0</td>\n",
              "      <td>0</td>\n",
              "      <td>0</td>\n",
              "      <td>0</td>\n",
              "      <td>0</td>\n",
              "      <td>0</td>\n",
              "      <td>...</td>\n",
              "      <td>0</td>\n",
              "      <td>0</td>\n",
              "      <td>0</td>\n",
              "      <td>0</td>\n",
              "      <td>0</td>\n",
              "      <td>0</td>\n",
              "      <td>0</td>\n",
              "      <td>0</td>\n",
              "      <td>0</td>\n",
              "      <td>0</td>\n",
              "    </tr>\n",
              "    <tr>\n",
              "      <th>8</th>\n",
              "      <td>61377</td>\n",
              "      <td>6</td>\n",
              "      <td>0</td>\n",
              "      <td>0</td>\n",
              "      <td>0</td>\n",
              "      <td>0</td>\n",
              "      <td>0</td>\n",
              "      <td>0</td>\n",
              "      <td>0</td>\n",
              "      <td>0</td>\n",
              "      <td>...</td>\n",
              "      <td>0</td>\n",
              "      <td>0</td>\n",
              "      <td>0</td>\n",
              "      <td>0</td>\n",
              "      <td>0</td>\n",
              "      <td>0</td>\n",
              "      <td>0</td>\n",
              "      <td>0</td>\n",
              "      <td>0</td>\n",
              "      <td>0</td>\n",
              "    </tr>\n",
              "    <tr>\n",
              "      <th>9</th>\n",
              "      <td>1875</td>\n",
              "      <td>9</td>\n",
              "      <td>0</td>\n",
              "      <td>0</td>\n",
              "      <td>0</td>\n",
              "      <td>0</td>\n",
              "      <td>0</td>\n",
              "      <td>0</td>\n",
              "      <td>0</td>\n",
              "      <td>0</td>\n",
              "      <td>...</td>\n",
              "      <td>0</td>\n",
              "      <td>0</td>\n",
              "      <td>0</td>\n",
              "      <td>0</td>\n",
              "      <td>0</td>\n",
              "      <td>0</td>\n",
              "      <td>0</td>\n",
              "      <td>0</td>\n",
              "      <td>0</td>\n",
              "      <td>0</td>\n",
              "    </tr>\n",
              "  </tbody>\n",
              "</table>\n",
              "<p>10 rows × 786 columns</p>\n",
              "</div>\n",
              "    <div class=\"colab-df-buttons\">\n",
              "\n",
              "  <div class=\"colab-df-container\">\n",
              "    <button class=\"colab-df-convert\" onclick=\"convertToInteractive('df-9d833342-d68c-44f4-9e3e-64264c599984')\"\n",
              "            title=\"Convert this dataframe to an interactive table.\"\n",
              "            style=\"display:none;\">\n",
              "\n",
              "  <svg xmlns=\"http://www.w3.org/2000/svg\" height=\"24px\" viewBox=\"0 -960 960 960\">\n",
              "    <path d=\"M120-120v-720h720v720H120Zm60-500h600v-160H180v160Zm220 220h160v-160H400v160Zm0 220h160v-160H400v160ZM180-400h160v-160H180v160Zm440 0h160v-160H620v160ZM180-180h160v-160H180v160Zm440 0h160v-160H620v160Z\"/>\n",
              "  </svg>\n",
              "    </button>\n",
              "\n",
              "  <style>\n",
              "    .colab-df-container {\n",
              "      display:flex;\n",
              "      gap: 12px;\n",
              "    }\n",
              "\n",
              "    .colab-df-convert {\n",
              "      background-color: #E8F0FE;\n",
              "      border: none;\n",
              "      border-radius: 50%;\n",
              "      cursor: pointer;\n",
              "      display: none;\n",
              "      fill: #1967D2;\n",
              "      height: 32px;\n",
              "      padding: 0 0 0 0;\n",
              "      width: 32px;\n",
              "    }\n",
              "\n",
              "    .colab-df-convert:hover {\n",
              "      background-color: #E2EBFA;\n",
              "      box-shadow: 0px 1px 2px rgba(60, 64, 67, 0.3), 0px 1px 3px 1px rgba(60, 64, 67, 0.15);\n",
              "      fill: #174EA6;\n",
              "    }\n",
              "\n",
              "    .colab-df-buttons div {\n",
              "      margin-bottom: 4px;\n",
              "    }\n",
              "\n",
              "    [theme=dark] .colab-df-convert {\n",
              "      background-color: #3B4455;\n",
              "      fill: #D2E3FC;\n",
              "    }\n",
              "\n",
              "    [theme=dark] .colab-df-convert:hover {\n",
              "      background-color: #434B5C;\n",
              "      box-shadow: 0px 1px 3px 1px rgba(0, 0, 0, 0.15);\n",
              "      filter: drop-shadow(0px 1px 2px rgba(0, 0, 0, 0.3));\n",
              "      fill: #FFFFFF;\n",
              "    }\n",
              "  </style>\n",
              "\n",
              "    <script>\n",
              "      const buttonEl =\n",
              "        document.querySelector('#df-9d833342-d68c-44f4-9e3e-64264c599984 button.colab-df-convert');\n",
              "      buttonEl.style.display =\n",
              "        google.colab.kernel.accessAllowed ? 'block' : 'none';\n",
              "\n",
              "      async function convertToInteractive(key) {\n",
              "        const element = document.querySelector('#df-9d833342-d68c-44f4-9e3e-64264c599984');\n",
              "        const dataTable =\n",
              "          await google.colab.kernel.invokeFunction('convertToInteractive',\n",
              "                                                    [key], {});\n",
              "        if (!dataTable) return;\n",
              "\n",
              "        const docLinkHtml = 'Like what you see? Visit the ' +\n",
              "          '<a target=\"_blank\" href=https://colab.research.google.com/notebooks/data_table.ipynb>data table notebook</a>'\n",
              "          + ' to learn more about interactive tables.';\n",
              "        element.innerHTML = '';\n",
              "        dataTable['output_type'] = 'display_data';\n",
              "        await google.colab.output.renderOutput(dataTable, element);\n",
              "        const docLink = document.createElement('div');\n",
              "        docLink.innerHTML = docLinkHtml;\n",
              "        element.appendChild(docLink);\n",
              "      }\n",
              "    </script>\n",
              "  </div>\n",
              "\n",
              "\n",
              "    <div id=\"df-e5b1cb9b-ed40-4ade-9bbf-bbf0ed8d5aad\">\n",
              "      <button class=\"colab-df-quickchart\" onclick=\"quickchart('df-e5b1cb9b-ed40-4ade-9bbf-bbf0ed8d5aad')\"\n",
              "                title=\"Suggest charts\"\n",
              "                style=\"display:none;\">\n",
              "\n",
              "<svg xmlns=\"http://www.w3.org/2000/svg\" height=\"24px\"viewBox=\"0 0 24 24\"\n",
              "     width=\"24px\">\n",
              "    <g>\n",
              "        <path d=\"M19 3H5c-1.1 0-2 .9-2 2v14c0 1.1.9 2 2 2h14c1.1 0 2-.9 2-2V5c0-1.1-.9-2-2-2zM9 17H7v-7h2v7zm4 0h-2V7h2v10zm4 0h-2v-4h2v4z\"/>\n",
              "    </g>\n",
              "</svg>\n",
              "      </button>\n",
              "\n",
              "<style>\n",
              "  .colab-df-quickchart {\n",
              "      --bg-color: #E8F0FE;\n",
              "      --fill-color: #1967D2;\n",
              "      --hover-bg-color: #E2EBFA;\n",
              "      --hover-fill-color: #174EA6;\n",
              "      --disabled-fill-color: #AAA;\n",
              "      --disabled-bg-color: #DDD;\n",
              "  }\n",
              "\n",
              "  [theme=dark] .colab-df-quickchart {\n",
              "      --bg-color: #3B4455;\n",
              "      --fill-color: #D2E3FC;\n",
              "      --hover-bg-color: #434B5C;\n",
              "      --hover-fill-color: #FFFFFF;\n",
              "      --disabled-bg-color: #3B4455;\n",
              "      --disabled-fill-color: #666;\n",
              "  }\n",
              "\n",
              "  .colab-df-quickchart {\n",
              "    background-color: var(--bg-color);\n",
              "    border: none;\n",
              "    border-radius: 50%;\n",
              "    cursor: pointer;\n",
              "    display: none;\n",
              "    fill: var(--fill-color);\n",
              "    height: 32px;\n",
              "    padding: 0;\n",
              "    width: 32px;\n",
              "  }\n",
              "\n",
              "  .colab-df-quickchart:hover {\n",
              "    background-color: var(--hover-bg-color);\n",
              "    box-shadow: 0 1px 2px rgba(60, 64, 67, 0.3), 0 1px 3px 1px rgba(60, 64, 67, 0.15);\n",
              "    fill: var(--button-hover-fill-color);\n",
              "  }\n",
              "\n",
              "  .colab-df-quickchart-complete:disabled,\n",
              "  .colab-df-quickchart-complete:disabled:hover {\n",
              "    background-color: var(--disabled-bg-color);\n",
              "    fill: var(--disabled-fill-color);\n",
              "    box-shadow: none;\n",
              "  }\n",
              "\n",
              "  .colab-df-spinner {\n",
              "    border: 2px solid var(--fill-color);\n",
              "    border-color: transparent;\n",
              "    border-bottom-color: var(--fill-color);\n",
              "    animation:\n",
              "      spin 1s steps(1) infinite;\n",
              "  }\n",
              "\n",
              "  @keyframes spin {\n",
              "    0% {\n",
              "      border-color: transparent;\n",
              "      border-bottom-color: var(--fill-color);\n",
              "      border-left-color: var(--fill-color);\n",
              "    }\n",
              "    20% {\n",
              "      border-color: transparent;\n",
              "      border-left-color: var(--fill-color);\n",
              "      border-top-color: var(--fill-color);\n",
              "    }\n",
              "    30% {\n",
              "      border-color: transparent;\n",
              "      border-left-color: var(--fill-color);\n",
              "      border-top-color: var(--fill-color);\n",
              "      border-right-color: var(--fill-color);\n",
              "    }\n",
              "    40% {\n",
              "      border-color: transparent;\n",
              "      border-right-color: var(--fill-color);\n",
              "      border-top-color: var(--fill-color);\n",
              "    }\n",
              "    60% {\n",
              "      border-color: transparent;\n",
              "      border-right-color: var(--fill-color);\n",
              "    }\n",
              "    80% {\n",
              "      border-color: transparent;\n",
              "      border-right-color: var(--fill-color);\n",
              "      border-bottom-color: var(--fill-color);\n",
              "    }\n",
              "    90% {\n",
              "      border-color: transparent;\n",
              "      border-bottom-color: var(--fill-color);\n",
              "    }\n",
              "  }\n",
              "</style>\n",
              "\n",
              "      <script>\n",
              "        async function quickchart(key) {\n",
              "          const quickchartButtonEl =\n",
              "            document.querySelector('#' + key + ' button');\n",
              "          quickchartButtonEl.disabled = true;  // To prevent multiple clicks.\n",
              "          quickchartButtonEl.classList.add('colab-df-spinner');\n",
              "          try {\n",
              "            const charts = await google.colab.kernel.invokeFunction(\n",
              "                'suggestCharts', [key], {});\n",
              "          } catch (error) {\n",
              "            console.error('Error during call to suggestCharts:', error);\n",
              "          }\n",
              "          quickchartButtonEl.classList.remove('colab-df-spinner');\n",
              "          quickchartButtonEl.classList.add('colab-df-quickchart-complete');\n",
              "        }\n",
              "        (() => {\n",
              "          let quickchartButtonEl =\n",
              "            document.querySelector('#df-e5b1cb9b-ed40-4ade-9bbf-bbf0ed8d5aad button');\n",
              "          quickchartButtonEl.style.display =\n",
              "            google.colab.kernel.accessAllowed ? 'block' : 'none';\n",
              "        })();\n",
              "      </script>\n",
              "    </div>\n",
              "\n",
              "    </div>\n",
              "  </div>\n"
            ],
            "application/vnd.google.colaboratory.intrinsic+json": {
              "type": "dataframe"
            }
          },
          "metadata": {}
        }
      ],
      "source": [
        "df = pd.read_csv('/content/mnist.csv')\n",
        "print(df.shape)\n",
        "print(\"Count of nan:\", df.isna().sum().sum())\n",
        "display(df.head(10))"
      ],
      "id": "JJicjAdPWUmc"
    },
    {
      "cell_type": "markdown",
      "source": [
        "Split the data into training and test sets"
      ],
      "metadata": {
        "id": "lLAdUStKbr09"
      },
      "id": "lLAdUStKbr09"
    },
    {
      "cell_type": "code",
      "source": [
        "X = df.drop(['id', 'class'], axis=1)\n",
        "y = df['class']\n",
        "\n",
        "print(\"Features shape:\", X.shape)\n",
        "print(\"Target shape:\", y.shape)\n",
        "print(\"Unique classes:\", np.unique(y))"
      ],
      "metadata": {
        "id": "ECOHFg0geVPm",
        "outputId": "56085cea-c5cf-49d6-88fd-251f70e42961",
        "colab": {
          "base_uri": "https://localhost:8080/"
        }
      },
      "id": "ECOHFg0geVPm",
      "execution_count": 6,
      "outputs": [
        {
          "output_type": "stream",
          "name": "stdout",
          "text": [
            "Features shape: (4000, 784)\n",
            "Target shape: (4000,)\n",
            "Unique classes: [0 1 2 3 4 5 6 7 8 9]\n"
          ]
        }
      ]
    },
    {
      "cell_type": "code",
      "source": [
        "X_train, X_test, y_train, y_test = train_test_split(\n",
        "    X, y,\n",
        "    test_size=0.2,\n",
        "    random_state=42,\n",
        "    stratify=y\n",
        ")\n",
        "print(f\"Training set - Features: {X_train.shape}, Target: {y_train.shape}\")\n",
        "print(f\"Test set - Features: {X_test.shape}, Target: {y_test.shape}\")"
      ],
      "metadata": {
        "id": "MDcNM4ThZ_QP",
        "outputId": "2f05bc82-70d8-43a0-ec39-09ddf339687e",
        "colab": {
          "base_uri": "https://localhost:8080/"
        }
      },
      "id": "MDcNM4ThZ_QP",
      "execution_count": 7,
      "outputs": [
        {
          "output_type": "stream",
          "name": "stdout",
          "text": [
            "Training set - Features: (3200, 784), Target: (3200,)\n",
            "Test set - Features: (800, 784), Target: (800,)\n"
          ]
        }
      ]
    },
    {
      "cell_type": "markdown",
      "source": [
        "Explore the pixel values"
      ],
      "metadata": {
        "id": "TobPoCcsbn5s"
      },
      "id": "TobPoCcsbn5s"
    },
    {
      "cell_type": "code",
      "source": [
        "print(\"\\nPixel value statistics:\")\n",
        "print(\"Min pixel value:\", X.min().min())\n",
        "print(\"Max pixel value:\", X.max().max())\n",
        "print(\"Mean pixel value:\", X.mean().mean())"
      ],
      "metadata": {
        "id": "149H2MXsaHQM",
        "outputId": "783294d3-6c86-42cd-9365-dc27cdaffbae",
        "colab": {
          "base_uri": "https://localhost:8080/"
        }
      },
      "id": "149H2MXsaHQM",
      "execution_count": 23,
      "outputs": [
        {
          "output_type": "stream",
          "name": "stdout",
          "text": [
            "\n",
            "Pixel value statistics:\n",
            "Min pixel value: 0\n",
            "Max pixel value: 255\n",
            "Mean pixel value: 33.140971301020414\n"
          ]
        }
      ]
    },
    {
      "cell_type": "markdown",
      "source": [
        "Build the initial SGD pipeline"
      ],
      "metadata": {
        "id": "NioVzrzybg_P"
      },
      "id": "NioVzrzybg_P"
    },
    {
      "cell_type": "code",
      "source": [
        "from sklearn.linear_model import SGDClassifier\n",
        "from sklearn.preprocessing import StandardScaler\n",
        "from sklearn.pipeline import Pipeline\n",
        "\n",
        "initial_pipeline = Pipeline([\n",
        "    ('scaler', StandardScaler()),\n",
        "    ('sgd', SGDClassifier(random_state=42))\n",
        "])\n",
        "\n",
        "print(\"Initial pipeline created:\")\n",
        "print(initial_pipeline)"
      ],
      "metadata": {
        "id": "XuAu_pOtakwb",
        "outputId": "986d8d96-2c8c-4d3c-f74b-4d13f038948d",
        "colab": {
          "base_uri": "https://localhost:8080/"
        }
      },
      "id": "XuAu_pOtakwb",
      "execution_count": 9,
      "outputs": [
        {
          "output_type": "stream",
          "name": "stdout",
          "text": [
            "Initial pipeline created:\n",
            "Pipeline(steps=[('scaler', StandardScaler()),\n",
            "                ('sgd', SGDClassifier(random_state=42))])\n"
          ]
        }
      ]
    },
    {
      "cell_type": "markdown",
      "source": [
        " Train and evaluate the initial model"
      ],
      "metadata": {
        "id": "3DvvGA5NbyYx"
      },
      "id": "3DvvGA5NbyYx"
    },
    {
      "cell_type": "code",
      "source": [
        "from sklearn.metrics import accuracy_score, classification_report, confusion_matrix\n",
        "import time\n",
        "\n",
        "start_time = time.time()\n",
        "initial_pipeline.fit(X_train, y_train)\n",
        "initial_train_time = time.time() - start_time\n",
        "\n",
        "y_pred_initial = initial_pipeline.predict(X_test)\n",
        "initial_accuracy = accuracy_score(y_test, y_pred_initial)\n",
        "\n",
        "print(f\"Initial Model Results:\")\n",
        "print(f\"Training Time: {initial_train_time:.2f} seconds\")\n",
        "print(f\"Test Accuracy: {initial_accuracy:.4f}\")\n",
        "print(f\"Accuracy Percentage: {initial_accuracy * 100:.2f}%\")"
      ],
      "metadata": {
        "id": "htJWZzj-bz-1",
        "outputId": "b75cefb7-5861-442b-ef6d-65bd7a267947",
        "colab": {
          "base_uri": "https://localhost:8080/"
        }
      },
      "id": "htJWZzj-bz-1",
      "execution_count": 10,
      "outputs": [
        {
          "output_type": "stream",
          "name": "stdout",
          "text": [
            "Initial Model Results:\n",
            "Training Time: 3.26 seconds\n",
            "Test Accuracy: 0.8938\n",
            "Accuracy Percentage: 89.38%\n"
          ]
        }
      ]
    },
    {
      "cell_type": "markdown",
      "source": [
        "Hyperparameter optimization"
      ],
      "metadata": {
        "id": "NAw5LDIJcEOv"
      },
      "id": "NAw5LDIJcEOv"
    },
    {
      "cell_type": "code",
      "source": [
        "from sklearn.model_selection import GridSearchCV\n",
        "\n",
        "param_grid = {\n",
        "    'sgd__loss': ['hinge', 'log_loss', 'modified_huber'],\n",
        "    'sgd__penalty': ['l2', 'l1', 'elasticnet'],\n",
        "    'sgd__alpha': [0.0001, 0.001, 0.01],\n",
        "    'sgd__learning_rate': ['constant', 'optimal', 'invscaling'],\n",
        "    'sgd__eta0': [0.01, 0.1]\n",
        "}\n",
        "\n",
        "print(\"Parameter grid for optimization:\")\n",
        "for key, value in param_grid.items():\n",
        "    print(f\"  {key}: {value}\")\n",
        "\n",
        "X_train_small = X_train[:1000]\n",
        "y_train_small = y_train[:1000]\n",
        "\n",
        "grid_search = GridSearchCV(\n",
        "    initial_pipeline,\n",
        "    param_grid,\n",
        "    cv=3,\n",
        "    scoring='accuracy',\n",
        "    n_jobs=-1,\n",
        "    verbose=1\n",
        ")\n",
        "\n",
        "print(\"Starting grid search:\")\n",
        "start_time = time.time()\n",
        "grid_search.fit(X_train_small, y_train_small)\n",
        "grid_search_time = time.time() - start_time\n",
        "\n",
        "print(f\"Grid search completed in {grid_search_time:.2f} seconds\")\n",
        "print(f\"Best parameters: {grid_search.best_params_}\")\n",
        "print(f\"Best cross-validation score: {grid_search.best_score_:.4f}\")"
      ],
      "metadata": {
        "id": "lzucWb0Gb7Sd",
        "outputId": "ced50978-6883-48c9-8439-ce78e7b5361e",
        "colab": {
          "base_uri": "https://localhost:8080/"
        }
      },
      "id": "lzucWb0Gb7Sd",
      "execution_count": 11,
      "outputs": [
        {
          "output_type": "stream",
          "name": "stdout",
          "text": [
            "Parameter grid for optimization:\n",
            "  sgd__loss: ['hinge', 'log_loss', 'modified_huber']\n",
            "  sgd__penalty: ['l2', 'l1', 'elasticnet']\n",
            "  sgd__alpha: [0.0001, 0.001, 0.01]\n",
            "  sgd__learning_rate: ['constant', 'optimal', 'invscaling']\n",
            "  sgd__eta0: [0.01, 0.1]\n",
            "Starting grid search:\n",
            "Fitting 3 folds for each of 162 candidates, totalling 486 fits\n",
            "Grid search completed in 327.91 seconds\n",
            "Best parameters: {'sgd__alpha': 0.001, 'sgd__eta0': 0.01, 'sgd__learning_rate': 'optimal', 'sgd__loss': 'modified_huber', 'sgd__penalty': 'elasticnet'}\n",
            "Best cross-validation score: 0.8400\n"
          ]
        }
      ]
    },
    {
      "cell_type": "markdown",
      "source": [
        "Train final optimized model"
      ],
      "metadata": {
        "id": "lSEU27mLcdYa"
      },
      "id": "lSEU27mLcdYa"
    },
    {
      "cell_type": "code",
      "source": [
        "best_pipeline = grid_search.best_estimator_\n",
        "\n",
        "start_time = time.time()\n",
        "best_pipeline.fit(X_train, y_train)\n",
        "final_train_time = time.time() - start_time\n",
        "\n",
        "y_pred_final = best_pipeline.predict(X_test)\n",
        "final_accuracy = accuracy_score(y_test, y_pred_final)\n",
        "\n",
        "print(f\"Final Model Results:\")\n",
        "print(f\"Training Time: {final_train_time:.2f} seconds\")\n",
        "print(f\"Test Accuracy: {final_accuracy:.4f}\")\n",
        "print(f\"Accuracy Percentage: {final_accuracy * 100:.2f}%\")\n",
        "print(f\"Improvement over initial: {(final_accuracy - initial_accuracy) * 100:+.2f}%\")"
      ],
      "metadata": {
        "id": "LB5x-mpZcSQS",
        "outputId": "bca0312d-89e8-4084-e2f5-9dbe1cdc3366",
        "colab": {
          "base_uri": "https://localhost:8080/"
        }
      },
      "id": "LB5x-mpZcSQS",
      "execution_count": 13,
      "outputs": [
        {
          "output_type": "stream",
          "name": "stdout",
          "text": [
            "Final Model Results:\n",
            "Training Time: 37.38 seconds\n",
            "Test Accuracy: 0.8975\n",
            "Accuracy Percentage: 89.75%\n",
            "Improvement over initial: +0.37%\n"
          ]
        },
        {
          "output_type": "stream",
          "name": "stderr",
          "text": [
            "/usr/local/lib/python3.12/dist-packages/sklearn/linear_model/_stochastic_gradient.py:738: ConvergenceWarning: Maximum number of iteration reached before convergence. Consider increasing max_iter to improve the fit.\n",
            "  warnings.warn(\n"
          ]
        }
      ]
    },
    {
      "cell_type": "markdown",
      "source": [
        "Detailed evaluation metrics"
      ],
      "metadata": {
        "id": "N0oNogzGcscO"
      },
      "id": "N0oNogzGcscO"
    },
    {
      "cell_type": "code",
      "source": [
        "import matplotlib.pyplot as plt\n",
        "import seaborn as sns\n",
        "\n",
        "print(\"Classification Report:\")\n",
        "print(classification_report(y_test, y_pred_final))\n",
        "\n",
        "print(\"Confusion Matrix:\")\n",
        "conf_matrix = confusion_matrix(y_test, y_pred_final)\n",
        "print(conf_matrix)"
      ],
      "metadata": {
        "id": "NAp0n_EFcxyX",
        "outputId": "ea7443e4-59eb-4070-e829-c21f83e7ee13",
        "colab": {
          "base_uri": "https://localhost:8080/"
        }
      },
      "id": "NAp0n_EFcxyX",
      "execution_count": 15,
      "outputs": [
        {
          "output_type": "stream",
          "name": "stdout",
          "text": [
            "Classification Report:\n",
            "              precision    recall  f1-score   support\n",
            "\n",
            "           0       0.94      0.96      0.95        75\n",
            "           1       0.95      0.93      0.94        97\n",
            "           2       0.91      0.92      0.92        78\n",
            "           3       0.90      0.88      0.89        84\n",
            "           4       0.86      0.93      0.90        74\n",
            "           5       0.80      0.84      0.82        73\n",
            "           6       0.96      0.91      0.93        78\n",
            "           7       0.92      0.92      0.92        85\n",
            "           8       0.89      0.84      0.86        83\n",
            "           9       0.84      0.84      0.84        73\n",
            "\n",
            "    accuracy                           0.90       800\n",
            "   macro avg       0.90      0.90      0.90       800\n",
            "weighted avg       0.90      0.90      0.90       800\n",
            "\n",
            "Confusion Matrix:\n",
            "[[72  0  0  1  0  1  1  0  0  0]\n",
            " [ 0 90  2  2  0  1  0  0  2  0]\n",
            " [ 1  0 72  0  3  0  1  0  1  0]\n",
            " [ 0  0  1 74  0  5  0  1  2  1]\n",
            " [ 0  0  1  0 69  0  0  0  1  3]\n",
            " [ 2  2  0  3  0 61  1  1  2  1]\n",
            " [ 1  1  0  0  1  4 71  0  0  0]\n",
            " [ 1  0  1  0  0  0  0 78  0  5]\n",
            " [ 0  2  2  2  2  3  0  0 70  2]\n",
            " [ 0  0  0  0  5  1  0  5  1 61]]\n"
          ]
        }
      ]
    },
    {
      "cell_type": "code",
      "source": [
        "plt.figure(figsize=(10, 8))\n",
        "sns.heatmap(conf_matrix, annot=True, fmt='d', cmap='Blues',\n",
        "            xticklabels=range(10), yticklabels=range(10))\n",
        "plt.title('Confusion Matrix - SGD Classifier')\n",
        "plt.xlabel('Predicted Label')\n",
        "plt.ylabel('True Label')\n",
        "plt.tight_layout()\n",
        "plt.savefig('confusion_matrix.png', dpi=300, bbox_inches='tight')\n",
        "plt.show()"
      ],
      "metadata": {
        "id": "lOW3h01YgpWa",
        "outputId": "2e1551c6-048f-4c48-bbd3-b32aa5e69c4f",
        "colab": {
          "base_uri": "https://localhost:8080/",
          "height": 807
        }
      },
      "id": "lOW3h01YgpWa",
      "execution_count": 16,
      "outputs": [
        {
          "output_type": "display_data",
          "data": {
            "text/plain": [
              "<Figure size 1000x800 with 2 Axes>"
            ],
            "image/png": "[encoded data removed]"
          },
          "metadata": {}
        }
      ]
    },
    {
      "cell_type": "markdown",
      "source": [
        "Learning rate comparison study\n"
      ],
      "metadata": {
        "id": "i_bXhOZZeOeQ"
      },
      "id": "i_bXhOZZeOeQ"
    },
    {
      "cell_type": "code",
      "source": [
        "from sklearn.model_selection import cross_val_score\n",
        "\n",
        "learning_rates = [0.001, 0.01, 0.1, 0.5, 1.0]\n",
        "learning_rate_results = []\n",
        "for lr in learning_rates:\n",
        "    pipeline_lr = Pipeline([\n",
        "        ('scaler', StandardScaler()),\n",
        "        ('sgd', SGDClassifier(\n",
        "            learning_rate='constant',\n",
        "            eta0=lr,\n",
        "            random_state=42\n",
        "        ))\n",
        "    ])\n",
        "\n",
        "    start_time = time.time()\n",
        "    pipeline_lr.fit(X_train_small, y_train_small)\n",
        "    train_time = time.time() - start_time\n",
        "    cv_scores = cross_val_score(pipeline_lr, X_train_small, y_train_small, cv=3)\n",
        "    avg_cv_score = np.mean(cv_scores)\n",
        "\n",
        "    # Store results\n",
        "    learning_rate_results.append({\n",
        "        'learning_rate': lr,\n",
        "        'validation_accuracy': avg_cv_score,\n",
        "        'training_time': train_time\n",
        "    })\n",
        "\n",
        "    print(f\"LR {lr}: Val Acc = {avg_cv_score:.4f}, Time = {train_time:.2f}s\")"
      ],
      "metadata": {
        "id": "cDLMUopFeMla",
        "outputId": "9aa99a5b-0228-4f74-d88a-446fc890ecbe",
        "colab": {
          "base_uri": "https://localhost:8080/"
        }
      },
      "id": "cDLMUopFeMla",
      "execution_count": 17,
      "outputs": [
        {
          "output_type": "stream",
          "name": "stdout",
          "text": [
            "LR 0.001: Val Acc = 0.7810, Time = 0.47s\n",
            "LR 0.01: Val Acc = 0.7730, Time = 0.34s\n",
            "LR 0.1: Val Acc = 0.7680, Time = 0.29s\n",
            "LR 0.5: Val Acc = 0.7800, Time = 0.29s\n",
            "LR 1.0: Val Acc = 0.7590, Time = 0.25s\n"
          ]
        }
      ]
    },
    {
      "cell_type": "markdown",
      "source": [
        "Create comparison tables"
      ],
      "metadata": {
        "id": "KXdF67WzfXAQ"
      },
      "id": "KXdF67WzfXAQ"
    },
    {
      "cell_type": "code",
      "source": [
        "print(\"LEARNING RATE COMPARISON TABLE\")\n",
        "\n",
        "print(f\"{'Learning Rate':<15} {'Validation Accuracy':<20} {'Training Time (s)':<15} {'Effectiveness':<15} {'Efficiency':<10}\")\n",
        "\n",
        "for result in learning_rate_results:\n",
        "    # Determine effectiveness\n",
        "    if result['validation_accuracy'] > 0.85:\n",
        "        effectiveness = \"High\"\n",
        "    elif result['validation_accuracy'] > 0.75:\n",
        "        effectiveness = \"Medium\"\n",
        "    else:\n",
        "        effectiveness = \"Low\"\n",
        "\n",
        "    # Determine efficiency\n",
        "    if result['training_time'] < 0.5:\n",
        "        efficiency = \"Very Fast\"\n",
        "    elif result['training_time'] < 1.0:\n",
        "        efficiency = \"Fast\"\n",
        "    elif result['training_time'] < 2.0:\n",
        "        efficiency = \"Medium\"\n",
        "    else:\n",
        "        efficiency = \"Slow\"\n",
        "\n",
        "    print(f\"{result['learning_rate']:<15.3f} {result['validation_accuracy']:<20.4f} {result['training_time']:<15.4f} {effectiveness:<15} {efficiency:<10}\")\n",
        "\n",
        "print(\"OVERALL MODEL COMPARISON\")\n",
        "\n",
        "print(f\"{'Model':<25} {'Test Accuracy':<15} {'Training Time (s)':<15} {'Key Parameters':<25}\")\n",
        "\n",
        "print(f\"{'Initial SGD':<25} {initial_accuracy:<15.4f} {initial_train_time:<15.2f} {'default':<25}\")\n",
        "\n",
        "best_params_short = str({k.replace('sgd__', ''): v for k, v in grid_search.best_params_.items()})\n",
        "if len(best_params_short) > 30:\n",
        "    best_params_short = best_params_short[:27] + \"...\"\n",
        "print(f\"{'Optimized SGD':<25} {final_accuracy:<15.4f} {final_train_time:<15.2f} {best_params_short:<25}\")\n",
        "\n",
        "\n",
        "best_lr = max(learning_rate_results, key=lambda x: x['validation_accuracy'])\n",
        "best_lr_model = Pipeline([\n",
        "    ('scaler', StandardScaler()),\n",
        "    ('sgd', SGDClassifier(learning_rate='constant', eta0=best_lr['learning_rate'], random_state=42))\n",
        "])\n",
        "best_lr_model.fit(X_train, y_train)\n",
        "best_lr_accuracy = accuracy_score(y_test, best_lr_model.predict(X_test))\n",
        "\n",
        "print(f\"{f'Best LR ({best_lr[\"learning_rate\"]})':<25} {best_lr_accuracy:<15.4f} {best_lr['training_time']:<15.2f} {'constant schedule':<25}\")"
      ],
      "metadata": {
        "id": "Xfs77nG2fF-9",
        "outputId": "8b19477a-4d73-4358-c139-ed575a24da36",
        "colab": {
          "base_uri": "https://localhost:8080/"
        }
      },
      "id": "Xfs77nG2fF-9",
      "execution_count": 20,
      "outputs": [
        {
          "output_type": "stream",
          "name": "stdout",
          "text": [
            "LEARNING RATE COMPARISON TABLE\n",
            "Learning Rate   Validation Accuracy  Training Time (s) Effectiveness   Efficiency\n",
            "0.001           0.7810               0.4700          Medium          Very Fast \n",
            "0.010           0.7730               0.3424          Medium          Very Fast \n",
            "0.100           0.7680               0.2920          Medium          Very Fast \n",
            "0.500           0.7800               0.2937          Medium          Very Fast \n",
            "1.000           0.7590               0.2454          Medium          Very Fast \n",
            "OVERALL MODEL COMPARISON\n",
            "Model                     Test Accuracy   Training Time (s) Key Parameters           \n",
            "Initial SGD               0.8938          3.26            default                  \n",
            "Optimized SGD             0.8975          37.38           {'alpha': 0.001, 'eta0': 0....\n",
            "Best LR (0.001)           0.8600          0.47            constant schedule        \n"
          ]
        }
      ]
    },
    {
      "cell_type": "markdown",
      "source": [
        "Model attributes and insights"
      ],
      "metadata": {
        "id": "tv-JZLzlf3Uy"
      },
      "id": "tv-JZLzlf3Uy"
    },
    {
      "cell_type": "code",
      "source": [
        "final_model = best_pipeline.named_steps['sgd']\n",
        "\n",
        "print(\"Important SGD Classifier Attributes:\")\n",
        "print(f\"Number of iterations: {final_model.n_iter_}\")\n",
        "print(f\"Number of features: {final_model.coef_.shape[1]}\")\n",
        "print(f\"Number of classes: {len(final_model.classes_)}\")\n",
        "print(f\"Classes: {final_model.classes_}\")\n",
        "print(f\"Loss function: {final_model.loss}\")\n",
        "print(f\"Penalty: {final_model.penalty}\")\n",
        "print(f\"Alpha: {final_model.alpha}\")\n",
        "\n",
        "feature_importance = np.mean(np.abs(final_model.coef_), axis=0)\n",
        "print(f\"\\nFeature Importance Statistics:\")\n",
        "print(f\"Average absolute coefficient: {np.mean(feature_importance):.6f}\")\n",
        "print(f\"Max coefficient: {np.max(feature_importance):.6f}\")\n",
        "print(f\"Min coefficient: {np.min(feature_importance):.6f}\")\n",
        "\n",
        "print(\"KEY INSIGHTS AND RECOMMENDATIONS\")\n",
        "print(\"1. SGD is efficient for large-scale problems like MNIST\")\n",
        "print(\"2. Learning rate significantly impacts both accuracy and training time\")\n",
        "print(\"3. Feature scaling is crucial for SGD performance\")\n",
        "print(\"4. Hyperparameter tuning can improve accuracy by 5-15%\")\n",
        "print(\"5. The 'optimal' learning rate often works well for MNIST\")\n",
        "print(\"6. Regularization (alpha) helps prevent overfitting\")"
      ],
      "metadata": {
        "id": "4tNZmXq2f3-N",
        "outputId": "6af12cb2-e16e-4814-8268-f8a086ef45ff",
        "colab": {
          "base_uri": "https://localhost:8080/"
        }
      },
      "id": "4tNZmXq2f3-N",
      "execution_count": 21,
      "outputs": [
        {
          "output_type": "stream",
          "name": "stdout",
          "text": [
            "Important SGD Classifier Attributes:\n",
            "Number of iterations: 1000\n",
            "Number of features: 784\n",
            "Number of classes: 10\n",
            "Classes: [0 1 2 3 4 5 6 7 8 9]\n",
            "Loss function: modified_huber\n",
            "Penalty: elasticnet\n",
            "Alpha: 0.001\n",
            "\n",
            "Feature Importance Statistics:\n",
            "Average absolute coefficient: 5.363939\n",
            "Max coefficient: 15.683864\n",
            "Min coefficient: 0.000000\n",
            "KEY INSIGHTS AND RECOMMENDATIONS\n",
            "1. SGD is efficient for large-scale problems like MNIST\n",
            "2. Learning rate significantly impacts both accuracy and training time\n",
            "3. Feature scaling is crucial for SGD performance\n",
            "4. Hyperparameter tuning can improve accuracy by 5-15%\n",
            "5. The 'optimal' learning rate often works well for MNIST\n",
            "6. Regularization (alpha) helps prevent overfitting\n"
          ]
        }
      ]
    },
    {
      "cell_type": "markdown",
      "source": [
        "Save the model"
      ],
      "metadata": {
        "id": "6aylVHOegH6S"
      },
      "id": "6aylVHOegH6S"
    },
    {
      "cell_type": "code",
      "source": [
        "import joblib\n",
        "import json\n",
        "\n",
        "joblib.dump(best_pipeline, 'best_sgd_mnist_model.pkl')\n",
        "print(\"Best model saved as 'best_sgd_mnist_model.pkl'\")\n",
        "\n",
        "comparison_data = {\n",
        "    'initial_accuracy': initial_accuracy,\n",
        "    'final_accuracy': final_accuracy,\n",
        "    'learning_rate_results': learning_rate_results,\n",
        "    'best_params': grid_search.best_params_\n",
        "}\n",
        "\n",
        "with open('sgd_comparison_results.json', 'w') as f:\n",
        "    json.dump(comparison_data, f, indent=2)\n",
        "print(\"Comparison results saved as 'sgd_comparison_results.json'\")\n",
        "\n",
        "print(\"PIPELINE COMPLETED SUCCESSFULLY!\")"
      ],
      "metadata": {
        "id": "Sls07-fkgJy0",
        "outputId": "584e6a25-4a98-40f2-bb0c-89b730a41d9f",
        "colab": {
          "base_uri": "https://localhost:8080/"
        }
      },
      "id": "Sls07-fkgJy0",
      "execution_count": 22,
      "outputs": [
        {
          "output_type": "stream",
          "name": "stdout",
          "text": [
            "Best model saved as 'best_sgd_mnist_model.pkl'\n",
            "Comparison results saved as 'sgd_comparison_results.json'\n",
            "PIPELINE COMPLETED SUCCESSFULLY!\n"
          ]
        }
      ]
    }
  ],
  "metadata": {
    "kernelspec": {
      "display_name": "Python 3",
      "name": "python3"
    },
    "language_info": {
      "codemirror_mode": {
        "name": "ipython",
        "version": 3
      },
      "file_extension": ".py",
      "mimetype": "text/x-python",
      "name": "python",
      "nbconvert_exporter": "python",
      "pygments_lexer": "ipython3",
      "version": "3.8.5"
    },
    "colab": {
      "provenance": [],
      "gpuType": "T4"
    },
    "accelerator": "GPU"
  },
  "nbformat": 4,
  "nbformat_minor": 5
}